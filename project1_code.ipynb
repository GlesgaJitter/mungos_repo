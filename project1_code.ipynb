{
 "cells": [
  {
   "cell_type": "code",
   "execution_count": 3,
   "id": "4d887cf3",
   "metadata": {},
   "outputs": [
    {
     "ename": "ModuleNotFoundError",
     "evalue": "No module named 'pandas'",
     "output_type": "error",
     "traceback": [
      "\u001b[0;31m---------------------------------------------------------------------------\u001b[0m",
      "\u001b[0;31mModuleNotFoundError\u001b[0m                       Traceback (most recent call last)",
      "Input \u001b[0;32mIn [3]\u001b[0m, in \u001b[0;36m<module>\u001b[0;34m\u001b[0m\n\u001b[0;32m----> 1\u001b[0m \u001b[38;5;28;01mimport\u001b[39;00m \u001b[38;5;21;01mpandas\u001b[39;00m \u001b[38;5;28;01mas\u001b[39;00m \u001b[38;5;21;01mpd\u001b[39;00m\n\u001b[1;32m      2\u001b[0m \u001b[38;5;28;01mimport\u001b[39;00m \u001b[38;5;21;01mnumpy\u001b[39;00m \u001b[38;5;28;01mas\u001b[39;00m \u001b[38;5;21;01mnp\u001b[39;00m\n\u001b[1;32m      3\u001b[0m \u001b[38;5;28;01mimport\u001b[39;00m \u001b[38;5;21;01mseaborn\u001b[39;00m \u001b[38;5;28;01mas\u001b[39;00m \u001b[38;5;21;01msns\u001b[39;00m\n",
      "\u001b[0;31mModuleNotFoundError\u001b[0m: No module named 'pandas'"
     ]
    }
   ],
   "source": [
    "# import packages for data analysis\n",
    "import pandas as pd\n",
    "import numpy as np\n",
    "import seaborn as sns\n",
    "import matplotlib.pyplot as plt\n",
    "from sklearn.linear_model import LinearRegression\n",
    "from sklearn.model_selection import train_test_split\n",
    "from sklearn.metrics import r2_score, mean_squared_error\n",
    "# import glob to load .csv data files\n",
    "import glob\n",
    "import itertools"
   ]
  },
  {
   "cell_type": "code",
   "execution_count": 2,
   "id": "1c5abf8c",
   "metadata": {},
   "outputs": [
    {
     "ename": "NameError",
     "evalue": "name 'pd' is not defined",
     "output_type": "error",
     "traceback": [
      "\u001b[0;31m---------------------------------------------------------------------------\u001b[0m",
      "\u001b[0;31mNameError\u001b[0m                                 Traceback (most recent call last)",
      "Input \u001b[0;32mIn [2]\u001b[0m, in \u001b[0;36m<module>\u001b[0;34m\u001b[0m\n\u001b[1;32m      1\u001b[0m \u001b[38;5;66;03m## Create DataFrame by concatenating necessary used car data files\u001b[39;00m\n\u001b[0;32m----> 3\u001b[0m df \u001b[38;5;241m=\u001b[39m \u001b[43mpd\u001b[49m\u001b[38;5;241m.\u001b[39mDataFrame()\n\u001b[1;32m      4\u001b[0m \u001b[38;5;28;01mdef\u001b[39;00m \u001b[38;5;21mget_data\u001b[39m():\n\u001b[1;32m      5\u001b[0m     \u001b[38;5;28;01mfor\u001b[39;00m file_name \u001b[38;5;129;01min\u001b[39;00m glob\u001b[38;5;241m.\u001b[39mglob(\u001b[38;5;124m'\u001b[39m\u001b[38;5;124m*.csv\u001b[39m\u001b[38;5;124m'\u001b[39m):\n",
      "\u001b[0;31mNameError\u001b[0m: name 'pd' is not defined"
     ]
    }
   ],
   "source": [
    "## Create DataFrame by concatenating 'make' used car data files\n",
    "\n",
    "df = pd.DataFrame()\n",
    "def get_data():\n",
    "    for file_name in glob.glob('*.csv'):\n",
    "\n",
    "        if 'unclean' not in file_name and 'cclass' not in file_name and 'focus' not in file_name:\n",
    "            pulled = pd.read_csv(file_name, low_memory=False)\n",
    "            pulled['make'] = file_name[:-4]\n",
    "\n",
    "            try:\n",
    "                pulled.rename(columns = {'tax(£)':'tax'}, inplace = True)\n",
    "            except:\n",
    "                continue\n",
    "            df = pd.concat([df,pulled],axis=0)\n",
    "    \n",
    "    return df\n",
    "\n",
    "df = get_data()"
   ]
  },
  {
   "cell_type": "code",
   "execution_count": null,
   "id": "d0483690",
   "metadata": {},
   "outputs": [],
   "source": [
    "# Create dataframe for categorical columns \n",
    "\n",
    "def create_dummy_df(df, cat_cols):\n",
    "\n",
    "    for col in cat_cols:\n",
    "        try:\n",
    "            df = pd.concat([df.drop(col, axis=1), pd.get_dummies(df[col], prefix=col, prefix_sep='_', drop_first=True)], axis=1)\n",
    "        except:\n",
    "            continue\n",
    "    return df.astype(np.float)\n",
    "\n",
    "dum_df = create_dummy_df(df, cat_cols)"
   ]
  },
  {
   "cell_type": "code",
   "execution_count": null,
   "id": "1d57c460",
   "metadata": {},
   "outputs": [],
   "source": [
    "# Recast year as age to make interpretation easier, and drop year\n",
    "\n",
    "df['age'] = 2020 - df['year']\n",
    "df.drop(['year'], axis=1, inplace=True)\n"
   ]
  },
  {
   "cell_type": "code",
   "execution_count": null,
   "id": "dd1bc3ef",
   "metadata": {},
   "outputs": [],
   "source": [
    "# Create heatmap for correlation matrix to study correlation between numerical columns\n",
    "\n",
    "sns.heatmap(df.corr(), annot=True, fmt='.2f')\n",
    "plt.show()"
   ]
  },
  {
   "cell_type": "code",
   "execution_count": null,
   "id": "947131c9",
   "metadata": {},
   "outputs": [],
   "source": [
    "# Extract catagorical columns to be recast a dummy columns\n",
    "\n",
    "cat_df = df.select_dtypes(include=['object']).copy()\n",
    "cat_cols = cat_df.columns"
   ]
  },
  {
   "cell_type": "code",
   "execution_count": null,
   "id": "7dabd4f6",
   "metadata": {},
   "outputs": [],
   "source": [
    "# These lists contain groups of features to aid investigation\n",
    "\n",
    "mod_list = [col for col in dum_df.columns if 'model' in col]\n",
    "mil_list = ['mileage']\n",
    "tax_list = ['tax']\n",
    "mpg_list = ['mpg']\n",
    "eng_list = ['engineSize']\n",
    "age_list = ['age']\n",
    "misc_list = ['mileage', 'tax', 'mpg', 'engineSize', 'age']\n",
    "make_list = ['make_bmw', 'make_ford', 'make_hyundi', \n",
    "            'make_merc', 'make_skoda', 'make_toyota', 'make_vauxhall', 'make_vw']\n",
    "trans_list = ['transmission_Manual', 'transmission_Other', 'transmission_Semi-Auto'] \n",
    "fuel_list = ['fuelType_Electric', 'fuelType_Hybrid', 'fuelType_Other', 'fuelType_Petrol'] "
   ]
  },
  {
   "cell_type": "code",
   "execution_count": null,
   "id": "0069fb33",
   "metadata": {},
   "outputs": [],
   "source": [
    "# Loop over combinations of above lists - \n",
    "\n",
    "results = []\n",
    "for i in [1]:\n",
    "    for feat_set in itertools.combinations(feat_list, i):\n",
    "        feature_list = []\n",
    "        result_list = \"\"\n",
    "        for j in range(0,i):\n",
    "            feature_list += list(feat_set)[j]\n",
    "        if 'engineSize' in feature_list:\n",
    "            result_list += 'eng_'\n",
    "        if 'age' in feature_list:\n",
    "            result_list += 'age_'\n",
    "        if 'tax' in feature_list:\n",
    "            result_list += 'tax_'\n",
    "        if 'mpg' in feature_list:\n",
    "            result_list += 'mpg_'\n",
    "        if 'mileage' in feature_list:\n",
    "            result_list += 'misc_'\n",
    "        if 'make_bmw' in feature_list:\n",
    "            result_list += 'make_'\n",
    "        if 'model_ 2 Series' in feature_list:\n",
    "            result_list += 'model_'\n",
    "        if 'transmission_Manual' in feature_list:\n",
    "            result_list += 'trans_'\n",
    "        if 'fuelType_Electric' in feature_list:\n",
    "            result_list += 'fuel_'\n",
    "        \n",
    "        #Split into explanatory and response variables\n",
    "        X = dum_df[feature_list]\n",
    "        y = dum_df['price']\n",
    "\n",
    "        #Split into train and test\n",
    "        X_train, X_test, y_train, y_test = train_test_split(X, y, test_size = 0.1, random_state=42)\n",
    "\n",
    "        # Instantiate and fit linear regression model\n",
    "        lm_model = LinearRegression(normalize=True) \n",
    "        lm_model.fit(X_train, y_train) #Fit\n",
    "\n",
    "        #Predict and score the model\n",
    "        y_test_preds = lm_model.predict(X_test)\n",
    "        results.append([result_list,r2_score(y_test, y_test_preds)])\n",
    "        print(\"{} - The r-squared score using quantitative variables was {} on {} values.\".format(result_list, r2_score(y_test, y_test_preds), len(y_test)))"
   ]
  },
  {
   "cell_type": "code",
   "execution_count": null,
   "id": "37b6de57",
   "metadata": {},
   "outputs": [],
   "source": [
    "#result_df = pd.DataFrame(results, columns = ['features','r2_score'])\n",
    "#result_df.sort_values(by=['r2_score'], ascending=False).to_csv('results\\results.csv')\n",
    "\n",
    "#result_df.plot.bar(x='features', y='r2_score', rot=0)\n",
    "#plt.show()"
   ]
  }
 ],
 "metadata": {
  "kernelspec": {
   "display_name": "Python 3 (ipykernel)",
   "language": "python",
   "name": "python3"
  },
  "language_info": {
   "codemirror_mode": {
    "name": "ipython",
    "version": 3
   },
   "file_extension": ".py",
   "mimetype": "text/x-python",
   "name": "python",
   "nbconvert_exporter": "python",
   "pygments_lexer": "ipython3",
   "version": "3.8.10"
  }
 },
 "nbformat": 4,
 "nbformat_minor": 5
}
